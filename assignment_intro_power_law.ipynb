{
 "cells": [
  {
   "cell_type": "markdown",
   "metadata": {},
   "source": [
    "# Assignment — Introduction to network science and power law"
   ]
  },
  {
   "cell_type": "code",
   "execution_count": null,
   "metadata": {},
   "outputs": [],
   "source": [
    "from zlib import adler32\n",
    "import matplotlib.pyplot as plt\n",
    "from typing import List\n",
    "import numpy as np\n",
    "import pandas as pd\n",
    "import networkx as nx\n",
    "import requests"
   ]
  },
  {
   "cell_type": "markdown",
   "metadata": {},
   "source": [
    "In this assignment, we will consider some basics of networkx"
   ]
  },
  {
   "cell_type": "code",
   "execution_count": null,
   "metadata": {},
   "outputs": [],
   "source": [
    "assert nx.__version__ >= '2.5'"
   ]
  },
  {
   "cell_type": "markdown",
   "metadata": {},
   "source": [
    "In case of an exception, install networkx 2.5 using `pip` as follows:\n",
    "```\n",
    "pip uninstall networkx\n",
    "pip install networkx==2.5\n",
    "```"
   ]
  },
  {
   "cell_type": "markdown",
   "metadata": {},
   "source": [
    "### Task 1. Reading graph from a file (0 points)"
   ]
  },
  {
   "cell_type": "code",
   "execution_count": null,
   "metadata": {},
   "outputs": [],
   "source": [
    "url = 'https://raw.githubusercontent.com/netspractice/network-science/main/datasets/the_lord_of_the_rings_adjlist.txt'\n",
    "open('the_lord_of_the_rings_adjlist.txt', 'wb').write(requests.get(url).content)\n",
    "\n",
    "url = 'https://raw.githubusercontent.com/netspractice/network-science/main/datasets/the_lord_of_the_rings_edgelist.txt'\n",
    "open('the_lord_of_the_rings_edgelist.txt', 'wb').write(requests.get(url).content);\n"
   ]
  },
  {
   "cell_type": "markdown",
   "metadata": {},
   "source": [
    "A common representation of a graph is an adjacency matrix, but many real-world graphs are sparse (many zeros in an adjacency matrix), so in most cases data is stored in cheap sparse formats\n",
    "1. edge list\n",
    "2. adjacency list\n",
    "\n",
    "Edge list is a list of pairs of nodes — a target and destination of edges. Here is an edge list of an interaction network of films \"The Lord of the Rings\" (2001-2003)."
   ]
  },
  {
   "cell_type": "code",
   "execution_count": null,
   "metadata": {},
   "outputs": [],
   "source": [
    "with open('the_lord_of_the_rings_edgelist.txt') as f:\n",
    "    print(f.read()[:197])"
   ]
  },
  {
   "cell_type": "markdown",
   "metadata": {},
   "source": [
    "Adjacency list is a list of lists of nodes where the first node is a root and others are leafs"
   ]
  },
  {
   "cell_type": "code",
   "execution_count": null,
   "metadata": {},
   "outputs": [],
   "source": [
    "with open('the_lord_of_the_rings_adjlist.txt') as f:\n",
    "    print(f.read()[:190])"
   ]
  },
  {
   "cell_type": "markdown",
   "metadata": {},
   "source": [
    "For most cases we can use given functions in networkx:\n",
    "\n",
    "* `nx.read_adjlist`\n",
    "* `nx.read_edgelist`\n",
    "* `nx.read_weighted_edgelist`\n",
    "\n",
    "In the further task, read graphs `the_lord_of_the_rings_edgelist.txt`, `the_lord_of_the_rings_adjlist.txt` and combine them into a single graph such that the same nodes are merged in a single node preserving all adjacent edges.\n",
    "\n",
    "*Hint: use `graph.add_edges_from`*"
   ]
  },
  {
   "cell_type": "code",
   "execution_count": null,
   "metadata": {
    "deletable": false,
    "nbgrader": {
     "cell_type": "code",
     "checksum": "fed185238ff4d2e14377e4382851f288",
     "grade": false,
     "grade_id": "cell-3d2796d8ac544282",
     "locked": false,
     "schema_version": 3,
     "solution": true,
     "task": false
    }
   },
   "outputs": [],
   "source": [
    "def read_and_merge_graphs(edgelist_path, adjlist_path):\n",
    "    # YOUR CODE HERE\n",
    "    raise NotImplementedError()"
   ]
  },
  {
   "cell_type": "code",
   "execution_count": null,
   "metadata": {
    "deletable": false,
    "editable": false,
    "nbgrader": {
     "cell_type": "code",
     "checksum": "bed55ce12e54531965a943ffde15e1d9",
     "grade": true,
     "grade_id": "cell-d59c4e439b3aa75d",
     "locked": true,
     "points": 0.0,
     "schema_version": 3,
     "solution": false,
     "task": false
    }
   },
   "outputs": [],
   "source": [
    "G = read_and_merge_graphs(\"the_lord_of_the_rings_edgelist.txt\", \n",
    "                          \"the_lord_of_the_rings_adjlist.txt\")\n",
    "assert set(G.neighbors('SAM')) == {\n",
    "    'BILBO',\n",
    "    'ELROND',\n",
    "    'FRODO',\n",
    "    'GALADRIEL',\n",
    "    'GANDALF',\n",
    "    'GOLLUM',\n",
    "    'GORBAG',\n",
    "    'SHAGRAT',\n",
    "    'SMEAGOL'}\n",
    "assert nx.number_of_nodes(G) == 35\n",
    "assert nx.number_of_edges(G) == 98"
   ]
  },
  {
   "cell_type": "markdown",
   "metadata": {},
   "source": [
    "### Task 2. Directed graphs (0 points)"
   ]
  },
  {
   "cell_type": "markdown",
   "metadata": {},
   "source": [
    "The direction of edges could be crucial feature for many tasks, e.g. link analysis. Directed edges are also known as links or arcs. In networkx, the type of graph is defined by a constructor: `nx.Graph` for undirected graph, `nx.DiGraph` for directed graph. A directed graph can have an asymmetric adjacency matrix."
   ]
  },
  {
   "cell_type": "code",
   "execution_count": null,
   "metadata": {},
   "outputs": [],
   "source": [
    "diG = nx.DiGraph()\n",
    "diG.add_edges_from([[0, 1], [1, 2]])\n",
    "nx.to_numpy_array(diG)"
   ]
  },
  {
   "cell_type": "markdown",
   "metadata": {},
   "source": [
    "Write a function `convert_to_digraph` that takes an undirected graph and returns a new directed graph where the direction is defined by the rule: the node $i$ follows to $j$ if the length of `name` of $i$ is at least the length of `name` of $j$. Keep the ordering of nodes and the node attribute `name`."
   ]
  },
  {
   "cell_type": "code",
   "execution_count": null,
   "metadata": {
    "deletable": false,
    "nbgrader": {
     "cell_type": "code",
     "checksum": "cb6d01f1037b300cb5985bf659604f4c",
     "grade": false,
     "grade_id": "cell-4ff100c55840771c",
     "locked": false,
     "schema_version": 3,
     "solution": true,
     "task": false
    }
   },
   "outputs": [],
   "source": [
    "def convert_to_digraph(G):\n",
    "    # YOUR CODE HERE\n",
    "    raise NotImplementedError()"
   ]
  },
  {
   "cell_type": "code",
   "execution_count": null,
   "metadata": {
    "deletable": false,
    "editable": false,
    "nbgrader": {
     "cell_type": "code",
     "checksum": "6a9ca3fa5e3fd744b5a47af81a2a0fde",
     "grade": true,
     "grade_id": "cell-bfab7d9d16583e9c",
     "locked": true,
     "points": 0.0,
     "schema_version": 3,
     "solution": false,
     "task": false
    }
   },
   "outputs": [],
   "source": [
    "newG = nx.convert_node_labels_to_integers(G, label_attribute='name')\n",
    "diG = convert_to_digraph(newG)\n",
    "assert list(diG.nodes) == list(newG.nodes)\n",
    "for i, j in diG.edges:\n",
    "    assert len(diG.nodes[i]['name']) >= len(diG.nodes[j]['name'])\n",
    "assert len(diG.edges) == 117"
   ]
  },
  {
   "cell_type": "markdown",
   "metadata": {},
   "source": [
    "### Task 3. Basic statistics (0 points)"
   ]
  },
  {
   "cell_type": "markdown",
   "metadata": {},
   "source": [
    "Networkx provides a simple interface for getting basic graph statistics (look at the documentation to recall definitions):\n",
    "* `nx.radius`\n",
    "* `nx.diameter`\n",
    "* `nx.average_shortest_path_length`\n",
    "* `nx.average_clustering`\n",
    "\n",
    "For example, here are statistics of a path graph with 3 nodes:"
   ]
  },
  {
   "cell_type": "code",
   "execution_count": null,
   "metadata": {},
   "outputs": [],
   "source": [
    "G = nx.path_graph(3)\n",
    "print('Radius: ', nx.radius(G))\n",
    "print('Diameter: ', nx.diameter(G))\n",
    "print('Average shortest path length: ', nx.average_shortest_path_length(G))\n",
    "print('Average clustering coefficient: ', nx.average_clustering(G))\n",
    "nx.draw_networkx(G)"
   ]
  },
  {
   "cell_type": "markdown",
   "metadata": {},
   "source": [
    "Your task is to create graphs by given statistics. We can create a graph using simple networkx interfaces. For example, we can create a graph by passing an edgelist."
   ]
  },
  {
   "cell_type": "code",
   "execution_count": null,
   "metadata": {},
   "outputs": [],
   "source": [
    "G = nx.Graph([[0, 1], [1, 2], [2, 0]])\n",
    "nx.draw_networkx(G)"
   ]
  },
  {
   "cell_type": "markdown",
   "metadata": {},
   "source": [
    "Or create an empty graph and then add edges one by one."
   ]
  },
  {
   "cell_type": "code",
   "execution_count": null,
   "metadata": {},
   "outputs": [],
   "source": [
    "G = nx.Graph()\n",
    "G.add_edge(0, 1)\n",
    "G.add_edge(1, 2)\n",
    "G.add_edge(2, 0)\n",
    "nx.draw_networkx(G)"
   ]
  },
  {
   "cell_type": "markdown",
   "metadata": {},
   "source": [
    "Your task is to create graphs by given statistics.\n",
    "\n",
    "Write a function `graph1` that returns a graph with a radius 3 and diameter 3."
   ]
  },
  {
   "cell_type": "code",
   "execution_count": null,
   "metadata": {
    "deletable": false,
    "nbgrader": {
     "cell_type": "code",
     "checksum": "c84fe0f878bf1198b5cb5ac8e59208be",
     "grade": false,
     "grade_id": "cell-1b71ec27d5c70dc5",
     "locked": false,
     "schema_version": 3,
     "solution": true,
     "task": false
    }
   },
   "outputs": [],
   "source": [
    "def graph1():\n",
    "    # YOUR CODE HERE\n",
    "    raise NotImplementedError()"
   ]
  },
  {
   "cell_type": "code",
   "execution_count": null,
   "metadata": {
    "deletable": false,
    "editable": false,
    "nbgrader": {
     "cell_type": "code",
     "checksum": "4dca4a3b9d9d6f484b70dcc501e42161",
     "grade": true,
     "grade_id": "cell-02d925c056e1f040",
     "locked": true,
     "points": 0.0,
     "schema_version": 3,
     "solution": false,
     "task": false
    }
   },
   "outputs": [],
   "source": [
    "G = graph1()\n",
    "assert nx.radius(G) == nx.diameter(G) == 3\n",
    "nx.draw_networkx(G)"
   ]
  },
  {
   "cell_type": "markdown",
   "metadata": {},
   "source": [
    "Write a function `graph2` that returns a graph with a diameter of at least 5 average shortest path lengths."
   ]
  },
  {
   "cell_type": "code",
   "execution_count": null,
   "metadata": {
    "deletable": false,
    "nbgrader": {
     "cell_type": "code",
     "checksum": "799f8a31e39135ad10909330531c9bd1",
     "grade": false,
     "grade_id": "cell-e6b06880520f2cf7",
     "locked": false,
     "schema_version": 3,
     "solution": true,
     "task": false
    }
   },
   "outputs": [],
   "source": [
    "def graph2():\n",
    "    # YOUR CODE HERE\n",
    "    raise NotImplementedError()"
   ]
  },
  {
   "cell_type": "code",
   "execution_count": null,
   "metadata": {
    "deletable": false,
    "editable": false,
    "nbgrader": {
     "cell_type": "code",
     "checksum": "a7196530f74f85fe30a631c75cc8dce7",
     "grade": true,
     "grade_id": "cell-a6c86b83e11199d8",
     "locked": true,
     "points": 0.0,
     "schema_version": 3,
     "solution": false,
     "task": false
    }
   },
   "outputs": [],
   "source": [
    "G = graph2()\n",
    "assert nx.diameter(G) >= 5 * nx.average_shortest_path_length(G)\n",
    "nx.draw_networkx(G)"
   ]
  },
  {
   "cell_type": "markdown",
   "metadata": {},
   "source": [
    "Write a function `graph3` that returns a graph with an average clustering coefficient between 0.1 and 0.11."
   ]
  },
  {
   "cell_type": "code",
   "execution_count": null,
   "metadata": {
    "deletable": false,
    "nbgrader": {
     "cell_type": "code",
     "checksum": "6cb68bce05eee60aee8b3beb96ecbb80",
     "grade": false,
     "grade_id": "cell-eda0d295af4fc263",
     "locked": false,
     "schema_version": 3,
     "solution": true,
     "task": false
    }
   },
   "outputs": [],
   "source": [
    "def graph3():\n",
    "    # YOUR CODE HERE\n",
    "    raise NotImplementedError()"
   ]
  },
  {
   "cell_type": "code",
   "execution_count": null,
   "metadata": {
    "deletable": false,
    "editable": false,
    "nbgrader": {
     "cell_type": "code",
     "checksum": "e95e5bf41c626a5a617825f68cb278d0",
     "grade": true,
     "grade_id": "cell-d4aeb27141847c83",
     "locked": true,
     "points": 0.0,
     "schema_version": 3,
     "solution": false,
     "task": false
    }
   },
   "outputs": [],
   "source": [
    "G = graph3()\n",
    "assert 0.1 <= nx.average_clustering(G) <= 0.11\n",
    "nx.draw_networkx(G)"
   ]
  },
  {
   "cell_type": "markdown",
   "metadata": {},
   "source": [
    "### Task 4. Graph layout (0 points)"
   ]
  },
  {
   "cell_type": "markdown",
   "metadata": {},
   "source": [
    "A graph layout is a dictionary with a location of every node: keys are nodes and values are x, y positions. By default in `nx.draw_networkx`, it is the spring layout — a force-directed representation of the network treating edges as springs holding nodes close, while treating nodes as repelling objects."
   ]
  },
  {
   "cell_type": "code",
   "execution_count": null,
   "metadata": {},
   "outputs": [],
   "source": [
    "G = nx.barabasi_albert_graph(10, 2)\n",
    "layout = nx.spring_layout(G)\n",
    "layout"
   ]
  },
  {
   "cell_type": "code",
   "execution_count": null,
   "metadata": {},
   "outputs": [],
   "source": [
    "nx.draw_networkx(G, pos=layout)"
   ]
  },
  {
   "cell_type": "markdown",
   "metadata": {},
   "source": [
    "The Kamada Kawai layout is based on path-length cost-function. Sometimes, it is quite similar to the spring layout, however a significant difference is that the spring layout is random and the Kamada Kawai is deterministic."
   ]
  },
  {
   "cell_type": "code",
   "execution_count": null,
   "metadata": {},
   "outputs": [],
   "source": [
    "layout = nx.kamada_kawai_layout(G)\n",
    "nx.draw_networkx(G, pos=layout)"
   ]
  },
  {
   "cell_type": "markdown",
   "metadata": {},
   "source": [
    "Circular layout allows to draw a graph where nodes are in a circle."
   ]
  },
  {
   "cell_type": "code",
   "execution_count": null,
   "metadata": {},
   "outputs": [],
   "source": [
    "layout = nx.circular_layout(G)\n",
    "plt.figure(figsize=(5, 5))\n",
    "nx.draw_networkx(G, pos=layout)"
   ]
  },
  {
   "cell_type": "markdown",
   "metadata": {},
   "source": [
    "Bipartite layout allows to draw bipartite graph."
   ]
  },
  {
   "cell_type": "code",
   "execution_count": null,
   "metadata": {},
   "outputs": [],
   "source": [
    "B = nx.Graph()\n",
    "B.add_nodes_from([1, 2, 3, 4], bipartite=0)\n",
    "B.add_nodes_from([\"a\", \"b\", \"c\"], bipartite=1)\n",
    "B.add_edges_from([(1, \"a\"), (1, \"b\"), (2, \"b\"), (2, \"c\"), (3, \"c\"), (4, \"a\")])\n",
    "layout = nx.bipartite_layout(B, [1, 2, 3, 4])\n",
    "nx.draw_networkx(B, pos=layout)"
   ]
  },
  {
   "cell_type": "markdown",
   "metadata": {},
   "source": [
    "There are other layouts in networkx, also there are some useful parameters that you can find in documentation. Next, let us visualize a coappearance network of characters in The Matrix — a 1999 American science fiction action film written and directed by the Wachowskis. The dataset is taken from https://moviegalaxies.com/."
   ]
  },
  {
   "cell_type": "code",
   "execution_count": null,
   "metadata": {},
   "outputs": [],
   "source": [
    "url = 'https://raw.githubusercontent.com/network-science-course/network-science-course/main/datasets/the_matrix_graph.gexf'\n",
    "open('the_matrix_graph.gexf', 'wb').write(requests.get(url).content);\n"
   ]
  },
  {
   "cell_type": "code",
   "execution_count": null,
   "metadata": {},
   "outputs": [],
   "source": [
    "def get_matrix_graph():\n",
    "    G = nx.read_gexf('the_matrix_graph.gexf')\n",
    "    mapping = {}\n",
    "    for node in G.nodes:\n",
    "        mapping[node] = G.nodes[node]['label']\n",
    "    G = nx.relabel_nodes(G, mapping)\n",
    "    return G\n",
    "matrixG = get_matrix_graph()\n",
    "plt.figure(figsize=(13, 7))\n",
    "layout = nx.kamada_kawai_layout(matrixG)\n",
    "nx.draw_networkx(matrixG, pos=layout)"
   ]
  },
  {
   "cell_type": "markdown",
   "metadata": {},
   "source": [
    "Your task is to draw the matrix graph using the kamada kawai layout with nonlinear modification to obtain a denser layout away from the NEO node. Let us define a proximity coefficient using Gaussian kernel\n",
    "\n",
    "$$\\text{coef}(i) = \\exp\\left(-\\frac{\\text{distance}^2}{2\\sigma^2}\\right)$$\n",
    "\n",
    "where a _distance_ is the Euclidean distance from the node $i$ to the NEO node, $\\sigma$ is the constant. Then the nodes should be moved towards the NEO node such that\n",
    "\n",
    "$$\\text{distance} = \\text{coef}(i) \\times \\text{distance}$$\n",
    "\n",
    "The simplest way to do it is to center the layout so that the NEO node is in x=0 y=0 and then to multiply all node positions by the proximity coefficient.\n",
    "\n",
    "Write a function `dense_neo_layout` that takes a layout, sigma and returns a new (dense) layout.\n",
    "\n",
    "_Hint: use `np.linalg.norm` to calculate Euclidean norm._"
   ]
  },
  {
   "cell_type": "code",
   "execution_count": null,
   "metadata": {
    "deletable": false,
    "nbgrader": {
     "cell_type": "code",
     "checksum": "64eeeda97382494873dc80b9ad016c87",
     "grade": false,
     "grade_id": "cell-6dc95d64261dffa6",
     "locked": false,
     "schema_version": 3,
     "solution": true,
     "task": false
    }
   },
   "outputs": [],
   "source": [
    "def dense_neo_layout(layout, sigma):\n",
    "    # YOUR CODE HERE\n",
    "    raise NotImplementedError()"
   ]
  },
  {
   "cell_type": "code",
   "execution_count": null,
   "metadata": {
    "deletable": false,
    "editable": false,
    "nbgrader": {
     "cell_type": "code",
     "checksum": "a9f3c0d29c25312f04e5a661a57f7b56",
     "grade": true,
     "grade_id": "cell-fea67b2cc10bdbd6",
     "locked": true,
     "points": 0.0,
     "schema_version": 3,
     "solution": false,
     "task": false
    }
   },
   "outputs": [],
   "source": [
    "layout = nx.kamada_kawai_layout(matrixG)\n",
    "layout = dense_neo_layout(layout, sigma=1.5)\n",
    "assert type(layout) == dict\n",
    "assert np.all(layout['NEO'] == [0, 0])\n",
    "assert np.all(layout['REX'].round(2) == [-0.67,  0.58])\n",
    "assert adler32(str(layout['AGENT BROWN'].round(2)[0]).encode()) == 32309448"
   ]
  },
  {
   "cell_type": "code",
   "execution_count": null,
   "metadata": {},
   "outputs": [],
   "source": [
    "plt.figure(figsize=(13, 7))\n",
    "nx.draw_networkx(matrixG, layout)"
   ]
  },
  {
   "cell_type": "markdown",
   "metadata": {},
   "source": [
    "### Task 5. Nodes visualization (2 points)"
   ]
  },
  {
   "cell_type": "markdown",
   "metadata": {},
   "source": [
    "We can set a node size using `draw_networkx` with a parameter `node_size`. It should be a list of values ordered by `G.nodes`. For example, consider a simple path graph."
   ]
  },
  {
   "cell_type": "code",
   "execution_count": null,
   "metadata": {},
   "outputs": [],
   "source": [
    "G = nx.path_graph(3)\n",
    "G.nodes"
   ]
  },
  {
   "cell_type": "markdown",
   "metadata": {},
   "source": [
    "Let us set a size 200 for the node 0, 300 for 1, 400 for 2."
   ]
  },
  {
   "cell_type": "code",
   "execution_count": null,
   "metadata": {},
   "outputs": [],
   "source": [
    "layout = nx.kamada_kawai_layout(G)\n",
    "nx.draw_networkx(G, pos=layout, node_size=[200, 300, 400])"
   ]
  },
  {
   "cell_type": "markdown",
   "metadata": {},
   "source": [
    "To color nodes, we can use `node_color`. It should be a list of colors:\n",
    "* a tuple of float RGB 0-1 values: (red, green, blue)\n",
    "* a tuple of float RGBA 0-1 values: (red, green, blue, alpha)\n",
    "* a string — color name"
   ]
  },
  {
   "cell_type": "code",
   "execution_count": null,
   "metadata": {},
   "outputs": [],
   "source": [
    "nx.draw_networkx(\n",
    "    G,\n",
    "    pos=layout,\n",
    "    node_color=[(0.4, 0.8, 0, 0.6), (0.7, 0.4, 1, 0.6), (1, 0, 0.5, 0.6)])"
   ]
  },
  {
   "cell_type": "code",
   "execution_count": null,
   "metadata": {},
   "outputs": [],
   "source": [
    "nx.draw_networkx(\n",
    "    G,\n",
    "    pos=layout,\n",
    "    node_color=['green', 'cyan', 'pink'])"
   ]
  },
  {
   "cell_type": "markdown",
   "metadata": {},
   "source": [
    "Also we can use a colors from matplotlib colormaps. Discrete:"
   ]
  },
  {
   "cell_type": "code",
   "execution_count": null,
   "metadata": {},
   "outputs": [],
   "source": [
    "colors = plt.cm.Set1.colors\n",
    "nx.draw_networkx(\n",
    "    G,\n",
    "    pos=layout,\n",
    "    node_color=[colors[0], colors[1], colors[2]])"
   ]
  },
  {
   "cell_type": "markdown",
   "metadata": {},
   "source": [
    "Or continuous:"
   ]
  },
  {
   "cell_type": "code",
   "execution_count": null,
   "metadata": {},
   "outputs": [],
   "source": [
    "rainbow = plt.cm.rainbow\n",
    "nx.draw_networkx(\n",
    "    G,\n",
    "    pos=layout,\n",
    "    node_color=[rainbow(0.2), rainbow(0.8), rainbow(0.9)])"
   ]
  },
  {
   "cell_type": "markdown",
   "metadata": {},
   "source": [
    "Another option of coloring nodes is to pass a list of single values by the `node_color` and colormap by the `cmap` parameter. In this case, the lowest value will assigned to the first color in colormap and vise versa."
   ]
  },
  {
   "cell_type": "code",
   "execution_count": null,
   "metadata": {},
   "outputs": [],
   "source": [
    "nx.draw_networkx(\n",
    "    G,\n",
    "    pos=layout,\n",
    "    cmap = plt.cm.hot,\n",
    "    node_color=[1, 2, 3])"
   ]
  },
  {
   "cell_type": "markdown",
   "metadata": {},
   "source": [
    "We can forcibly set a color range using `vmin` and `vmax`."
   ]
  },
  {
   "cell_type": "code",
   "execution_count": null,
   "metadata": {},
   "outputs": [],
   "source": [
    "nx.draw_networkx(\n",
    "    G,\n",
    "    pos=layout,\n",
    "    cmap = plt.cm.hot,\n",
    "    node_color=[1, 2, 3],\n",
    "    vmin=0, vmax=4)"
   ]
  },
  {
   "cell_type": "markdown",
   "metadata": {},
   "source": [
    "We can border nodes using `edgecolors` and `linewidths` parameters."
   ]
  },
  {
   "cell_type": "code",
   "execution_count": null,
   "metadata": {},
   "outputs": [],
   "source": [
    "nx.draw_networkx(\n",
    "    G=G, \n",
    "    pos=layout,\n",
    "    cmap = plt.cm.hot, \n",
    "    node_color=[1, 2, 3],\n",
    "    vmin=0, vmax=4, \n",
    "    edgecolors='black', \n",
    "    linewidths=1)"
   ]
  },
  {
   "cell_type": "markdown",
   "metadata": {},
   "source": [
    "Your task is to adjust a size and color of nodes in the matrix graph, size and color are taken from a node degree and node attribute `G.nodes[node]`."
   ]
  },
  {
   "cell_type": "code",
   "execution_count": null,
   "metadata": {},
   "outputs": [],
   "source": [
    "matrixG.nodes['NEO']"
   ]
  },
  {
   "cell_type": "markdown",
   "metadata": {},
   "source": [
    "Write a function `drawing_nodes_params` that takes a graph and returns a dictionary with parameters for `nx.draw_networkx` of the form `{'G': graph, 'node_color': color, ...}`. Parameters should contain a graph, kamada kawai layout, node colors from `viz.color` attribute. The colors should be converted from RGB range 0-255 to RGB range 0-1. The node size is a node degree `G.degree[node]` multiplied by 100."
   ]
  },
  {
   "cell_type": "code",
   "execution_count": null,
   "metadata": {
    "deletable": false,
    "nbgrader": {
     "cell_type": "code",
     "checksum": "d3bfe7db02b468e269d4baa55f8ddee0",
     "grade": false,
     "grade_id": "cell-23d41af4fdb48d3c",
     "locked": false,
     "schema_version": 3,
     "solution": true,
     "task": false
    }
   },
   "outputs": [],
   "source": [
    "def drawing_nodes_params(graph):\n",
    "    # YOUR CODE HERE\n",
    "    raise NotImplementedError()"
   ]
  },
  {
   "cell_type": "code",
   "execution_count": null,
   "metadata": {
    "deletable": false,
    "editable": false,
    "nbgrader": {
     "cell_type": "code",
     "checksum": "1935701167898c264cb3847e83ba5553",
     "grade": true,
     "grade_id": "cell-ce378d189964cb4f",
     "locked": true,
     "points": 1.0,
     "schema_version": 3,
     "solution": false,
     "task": false
    }
   },
   "outputs": [],
   "source": [
    "matrixG = get_matrix_graph()\n",
    "params = drawing_nodes_params(matrixG)\n",
    "assert type(params) == dict\n",
    "keys = ['G', 'pos', 'node_color', 'node_size']\n",
    "assert len(set(params.keys()).intersection(keys)) == 4\n",
    "assert np.all(params['node_color'][10].round(2) == [0.37, 0.79, 0.75])\n",
    "assert adler32(str(params['node_color'][0][1].round(2)).encode()) == 19071123\n",
    "assert params['node_size'][0] == 200\n",
    "assert params['node_size'][1] == 600\n",
    "assert nx.to_numpy_array(params['G']).sum() == 326.0"
   ]
  },
  {
   "cell_type": "code",
   "execution_count": null,
   "metadata": {},
   "outputs": [],
   "source": [
    "plt.figure(figsize=(13, 7))\n",
    "nx.draw_networkx(**params )"
   ]
  },
  {
   "cell_type": "markdown",
   "metadata": {},
   "source": [
    "Sometimes, it will be useful to draw nodes in nonlinear scale. If we want to make node sizes more comparable, we can use polynomial or exponential scale. On the other hand, we can use logarithmic scale to make sizes more similar.\n",
    "\n",
    "Write a function `drawing_nodes_polyparams` that returns the same dictionary as the `drawing_nodes_params` function, but the node size is a sum of node degree in a power 3 and 10.\n",
    "\n",
    "$$\\text{size} = \\text{degree}^3 + 10$$"
   ]
  },
  {
   "cell_type": "code",
   "execution_count": null,
   "metadata": {
    "deletable": false,
    "nbgrader": {
     "cell_type": "code",
     "checksum": "f89778806a9cf3b9b1d8901f98c189e8",
     "grade": false,
     "grade_id": "cell-7056cc638b9de958",
     "locked": false,
     "schema_version": 3,
     "solution": true,
     "task": false
    }
   },
   "outputs": [],
   "source": [
    "def drawing_nodes_polyparams(graph):\n",
    "    # YOUR CODE HERE\n",
    "    raise NotImplementedError()"
   ]
  },
  {
   "cell_type": "code",
   "execution_count": null,
   "metadata": {
    "deletable": false,
    "editable": false,
    "nbgrader": {
     "cell_type": "code",
     "checksum": "6d9ddde574b6f699dbea3cad7c139f13",
     "grade": true,
     "grade_id": "cell-6b4ea9133d917597",
     "locked": true,
     "points": 1.0,
     "schema_version": 3,
     "solution": false,
     "task": false
    }
   },
   "outputs": [],
   "source": [
    "matrixG = get_matrix_graph()\n",
    "params = drawing_nodes_polyparams(matrixG)\n",
    "assert type(params) == dict\n",
    "keys = ['G', 'pos', 'node_color', 'node_size']\n",
    "assert len(set(params.keys()).intersection(keys)) == 4\n",
    "assert np.all(params['node_color'][10].round(2) == [0.37, 0.79, 0.75])\n",
    "assert adler32(str(params['node_color'][0][1].round(2)).encode()) == 19071123\n",
    "assert params['node_size'][0] == 18\n",
    "assert params['node_size'][1] == 226\n",
    "assert nx.to_numpy_array(params['G']).sum() == 326.0"
   ]
  },
  {
   "cell_type": "code",
   "execution_count": null,
   "metadata": {},
   "outputs": [],
   "source": [
    "plt.figure(figsize=(13, 7))\n",
    "nx.draw_networkx(**params )"
   ]
  },
  {
   "cell_type": "markdown",
   "metadata": {},
   "source": [
    "### Task 6. Degree distribution (2 points)"
   ]
  },
  {
   "cell_type": "markdown",
   "metadata": {},
   "source": [
    "In this task, we will try to guess a graph by its degree distribution.\n",
    "\n",
    "__Graph A__ is described by the histogram `[0, 2, 10]` — 0 nodes with degree 0, 2 nodes with degree 1, 10 nodes with degree 2."
   ]
  },
  {
   "cell_type": "code",
   "execution_count": null,
   "metadata": {},
   "outputs": [],
   "source": [
    "dens_a = [0, 2, 10]\n",
    "plt.bar(range(len(dens_a)), dens_a);"
   ]
  },
  {
   "cell_type": "code",
   "execution_count": null,
   "metadata": {
    "deletable": false,
    "nbgrader": {
     "cell_type": "code",
     "checksum": "7726ebdf8814362b9595c84fe0221e09",
     "grade": false,
     "grade_id": "cell-4308485bfb1bf30e",
     "locked": false,
     "schema_version": 3,
     "solution": true,
     "task": false
    }
   },
   "outputs": [],
   "source": [
    "def generate_graph_a() -> nx.Graph:\n",
    "    # YOUR CODE HERE\n",
    "    raise NotImplementedError()"
   ]
  },
  {
   "cell_type": "code",
   "execution_count": null,
   "metadata": {
    "deletable": false,
    "editable": false,
    "nbgrader": {
     "cell_type": "code",
     "checksum": "1f824c1a20c44b478ac30ce41ad43f35",
     "grade": true,
     "grade_id": "cell-226da2d721eaace4",
     "locked": true,
     "points": 0.5,
     "schema_version": 3,
     "solution": false,
     "task": false
    }
   },
   "outputs": [],
   "source": [
    "G = generate_graph_a()\n",
    "assert nx.degree_histogram(G) == dens_a\n",
    "assert nx.is_connected(G)\n",
    "nx.draw_networkx(G)"
   ]
  },
  {
   "cell_type": "markdown",
   "metadata": {},
   "source": [
    "__Graph B__"
   ]
  },
  {
   "cell_type": "code",
   "execution_count": null,
   "metadata": {},
   "outputs": [],
   "source": [
    "dens_b = [0, 0, 10]\n",
    "plt.bar(range(len(dens_b)), dens_b);"
   ]
  },
  {
   "cell_type": "code",
   "execution_count": null,
   "metadata": {
    "deletable": false,
    "nbgrader": {
     "cell_type": "code",
     "checksum": "41e7af615198bd34567381ea1b34f56c",
     "grade": false,
     "grade_id": "cell-55d7cfacd5c8d553",
     "locked": false,
     "schema_version": 3,
     "solution": true,
     "task": false
    }
   },
   "outputs": [],
   "source": [
    "def generate_graph_b() -> nx.Graph:\n",
    "    # YOUR CODE HERE\n",
    "    raise NotImplementedError()"
   ]
  },
  {
   "cell_type": "code",
   "execution_count": null,
   "metadata": {
    "deletable": false,
    "editable": false,
    "nbgrader": {
     "cell_type": "code",
     "checksum": "04074a13ca0dda242e4a7df044440fd7",
     "grade": true,
     "grade_id": "cell-11bb8205ad27326a",
     "locked": true,
     "points": 0.5,
     "schema_version": 3,
     "solution": false,
     "task": false
    }
   },
   "outputs": [],
   "source": [
    "G = generate_graph_b()\n",
    "assert nx.degree_histogram(G) == dens_b\n",
    "assert nx.is_connected(G)\n",
    "nx.draw_networkx(G)"
   ]
  },
  {
   "cell_type": "markdown",
   "metadata": {},
   "source": [
    "__Graph C__"
   ]
  },
  {
   "cell_type": "code",
   "execution_count": null,
   "metadata": {},
   "outputs": [],
   "source": [
    "dens_c = [0, 0, 0, 0, 5]\n",
    "plt.bar(range(len(dens_c)), dens_c);"
   ]
  },
  {
   "cell_type": "code",
   "execution_count": null,
   "metadata": {
    "deletable": false,
    "nbgrader": {
     "cell_type": "code",
     "checksum": "dac931bc16a78ae011fdaab8f99a54ca",
     "grade": false,
     "grade_id": "cell-6ad0ea3f81976162",
     "locked": false,
     "schema_version": 3,
     "solution": true,
     "task": false
    }
   },
   "outputs": [],
   "source": [
    "def generate_graph_c() -> nx.Graph:\n",
    "    # YOUR CODE HERE\n",
    "    raise NotImplementedError()"
   ]
  },
  {
   "cell_type": "code",
   "execution_count": null,
   "metadata": {
    "deletable": false,
    "editable": false,
    "nbgrader": {
     "cell_type": "code",
     "checksum": "ae570e373a3db27d589d3d863da0f81e",
     "grade": true,
     "grade_id": "cell-508d2e23c067c4d2",
     "locked": true,
     "points": 0.5,
     "schema_version": 3,
     "solution": false,
     "task": false
    }
   },
   "outputs": [],
   "source": [
    "G = generate_graph_c()\n",
    "assert nx.degree_histogram(G) == dens_c\n",
    "assert nx.is_connected(G)\n",
    "nx.draw_networkx(G)"
   ]
  },
  {
   "cell_type": "markdown",
   "metadata": {},
   "source": [
    "__Graph D__"
   ]
  },
  {
   "cell_type": "code",
   "execution_count": null,
   "metadata": {},
   "outputs": [],
   "source": [
    "dens_d = [0, 5, 0, 0, 0, 1]\n",
    "plt.bar(range(len(dens_d)), dens_d);"
   ]
  },
  {
   "cell_type": "code",
   "execution_count": null,
   "metadata": {
    "deletable": false,
    "nbgrader": {
     "cell_type": "code",
     "checksum": "f1ab3b74f2b7a677c3844675c785ef5a",
     "grade": false,
     "grade_id": "cell-2a6c0c0fe4dda491",
     "locked": false,
     "schema_version": 3,
     "solution": true,
     "task": false
    }
   },
   "outputs": [],
   "source": [
    "def generate_graph_d() -> nx.Graph:\n",
    "    # YOUR CODE HERE\n",
    "    raise NotImplementedError()"
   ]
  },
  {
   "cell_type": "code",
   "execution_count": null,
   "metadata": {
    "deletable": false,
    "editable": false,
    "nbgrader": {
     "cell_type": "code",
     "checksum": "c464ac5cf72aa9486f49d10f0029e4eb",
     "grade": true,
     "grade_id": "cell-c9c34144467f9031",
     "locked": true,
     "points": 0.5,
     "schema_version": 3,
     "solution": false,
     "task": false
    }
   },
   "outputs": [],
   "source": [
    "G = generate_graph_d()\n",
    "assert nx.degree_histogram(G) == dens_d\n",
    "assert nx.is_connected(G)\n",
    "nx.draw_networkx(G)"
   ]
  },
  {
   "cell_type": "markdown",
   "metadata": {},
   "source": [
    "### Task 7. Power law CDF (2 points)"
   ]
  },
  {
   "cell_type": "markdown",
   "metadata": {},
   "source": [
    "Scale-free network has a Power law degree distribution. Let us take a closer look at this distribution. The PDF of the Power law is \n",
    "\n",
    "$$ p(x) = Cx^{-\\alpha},$$ \n",
    "\n",
    "where $C$ is a normalization constant \n",
    "\n",
    "$$C = \\frac{\\alpha - 1}{x_{\\text{min}}^{-\\alpha + 1}}$$ \n",
    "\n",
    "and $\\alpha>1$ is called an exponent of the distribution. "
   ]
  },
  {
   "cell_type": "code",
   "execution_count": null,
   "metadata": {},
   "outputs": [],
   "source": [
    "def power_law_pdf(x, alpha=3.5, x_min=1):\n",
    "    C = (alpha - 1) / x_min ** (1 - alpha)\n",
    "    return C * x ** (-alpha)"
   ]
  },
  {
   "cell_type": "code",
   "execution_count": null,
   "metadata": {},
   "outputs": [],
   "source": [
    "x_space = np.linspace(1, 10, 100)\n",
    "plt.plot(x_space, power_law_pdf(x_space))\n",
    "plt.title('Power Law PDF');"
   ]
  },
  {
   "cell_type": "markdown",
   "metadata": {},
   "source": [
    "Let us generate observations from a Power Law RV. The first step is to derive CDF of Powel law: $F(x) = P(X \\leq x)$\n",
    "\n",
    "$$F(x) = 1 - \\int_{x}^\\infty p(t) dt.$$\n",
    "\n",
    "Take the integral, derive CDF analytically and then write a function `power_law_cdf` with parameters `x`, `alpha` and `x_min`."
   ]
  },
  {
   "cell_type": "code",
   "execution_count": null,
   "metadata": {
    "deletable": false,
    "nbgrader": {
     "cell_type": "code",
     "checksum": "dfa3158ba5ebe1454116372e3a44aec9",
     "grade": false,
     "grade_id": "cell-f682e125051975d6",
     "locked": false,
     "schema_version": 3,
     "solution": true,
     "task": false
    }
   },
   "outputs": [],
   "source": [
    "def power_law_cdf(x, alpha=3.5, x_min=1):\n",
    "    # YOUR CODE HERE\n",
    "    raise NotImplementedError()"
   ]
  },
  {
   "cell_type": "code",
   "execution_count": null,
   "metadata": {
    "deletable": false,
    "editable": false,
    "nbgrader": {
     "cell_type": "code",
     "checksum": "1cf2a1a64e0e59cf6b832457eb437b5e",
     "grade": true,
     "grade_id": "cell-87d0428f480773c4",
     "locked": true,
     "points": 2.0,
     "schema_version": 3,
     "solution": false,
     "task": false
    }
   },
   "outputs": [],
   "source": [
    "assert power_law_cdf(2, 2, 1) == 0.5\n",
    "assert power_law_cdf(10, 2, 1) == 0.9\n",
    "assert adler32(str(power_law_cdf(2, 3, 1)).encode()) == 32571595"
   ]
  },
  {
   "cell_type": "code",
   "execution_count": null,
   "metadata": {},
   "outputs": [],
   "source": [
    "x_space = np.linspace(1, 10, 100)\n",
    "plt.plot(x_space, power_law_cdf(x_space))\n",
    "plt.title('Power Law CDF');"
   ]
  },
  {
   "cell_type": "markdown",
   "metadata": {},
   "source": [
    "### Task 8. Power law PPF (2 points)"
   ]
  },
  {
   "cell_type": "markdown",
   "metadata": {},
   "source": [
    "Let $X \\sim \\text{Power law}$. Next, define a random variable $R$, s.t. $R = F(X)$, so $R$ will be uniformly distributed on interval [0, 1] ([proof](https://en.wikipedia.org/wiki/Probability_integral_transform#Proof)). Good thing here is that we easily can generate uniformly distributed pseudorandom numbers and then transform them into Power Law. Let us find an expression for $x = F^{-1}(r)$, where $r$ is an observation from uniform distrubution on interval [0, 1]. \n",
    "\n",
    "Find an analytical form of $F^{-1}(r)$ and write a function `power_law_ppf` (percent point function, also known as a quantile) with parameters `r`, `alpha` and `x_min`. "
   ]
  },
  {
   "cell_type": "code",
   "execution_count": null,
   "metadata": {
    "deletable": false,
    "nbgrader": {
     "cell_type": "code",
     "checksum": "be67ee873cb3bf60c2e62921b187b228",
     "grade": false,
     "grade_id": "cell-63a819b2bc8441f1",
     "locked": false,
     "schema_version": 3,
     "solution": true,
     "task": false
    }
   },
   "outputs": [],
   "source": [
    "def power_law_ppf(r, alpha=3.5, x_min=1):\n",
    "    # YOUR CODE HERE\n",
    "    raise NotImplementedError()"
   ]
  },
  {
   "cell_type": "code",
   "execution_count": null,
   "metadata": {
    "deletable": false,
    "editable": false,
    "nbgrader": {
     "cell_type": "code",
     "checksum": "8cdad82f3fdb6b6436a90365f70e0961",
     "grade": true,
     "grade_id": "cell-0b447767612a3798",
     "locked": true,
     "points": 2.0,
     "schema_version": 3,
     "solution": false,
     "task": false
    }
   },
   "outputs": [],
   "source": [
    "assert round(power_law_ppf(0.5, 2, 1), 2) == 2\n",
    "assert round(power_law_ppf(0.9, 2, 1), 2) == 10\n",
    "assert adler32(str(round(power_law_ppf(0.96, 3, 1), 2)).encode()) == 19792020"
   ]
  },
  {
   "cell_type": "code",
   "execution_count": null,
   "metadata": {},
   "outputs": [],
   "source": [
    "x_space = np.linspace(0, 0.999, 100)\n",
    "plt.plot(x_space, power_law_ppf(x_space))\n",
    "plt.title('Power Law PPF');"
   ]
  },
  {
   "cell_type": "markdown",
   "metadata": {},
   "source": [
    "Finally, we can generate observation from Power law distribution as follows:\n",
    "1. Generate observation from uniform distribution on interval [0, 1]\n",
    "2. Calculate PPF value of given observation"
   ]
  },
  {
   "cell_type": "code",
   "execution_count": null,
   "metadata": {},
   "outputs": [],
   "source": [
    "def power_law_generate(n, alpha=3.5, x_min=1, random_seed=1):\n",
    "    np.random.seed(random_seed)\n",
    "    uni_sample = np.random.uniform(0, 0.999, n)\n",
    "    return power_law_ppf(uni_sample, alpha, x_min)"
   ]
  },
  {
   "cell_type": "markdown",
   "metadata": {},
   "source": [
    "Look at the histogram of the generated sample"
   ]
  },
  {
   "cell_type": "code",
   "execution_count": null,
   "metadata": {},
   "outputs": [],
   "source": [
    "alpha = 3.5\n",
    "x_min = 1\n",
    "x_train = power_law_generate(1000, alpha, x_min)\n",
    "x_space = np.linspace(1, 15, 100)"
   ]
  },
  {
   "cell_type": "code",
   "execution_count": null,
   "metadata": {},
   "outputs": [],
   "source": [
    "hist, bin_edges = np.histogram(x_train, bins=200, density=True)\n",
    "bin_centers = (bin_edges[1:] + bin_edges[:-1]) / 2\n",
    "plt.scatter(bin_centers[hist > 0], hist[hist > 0], s=10)\n",
    "plt.plot(x_space, power_law_pdf(x_space, alpha, x_min), \n",
    "         label='Theoretical PDF', c='tab:orange')\n",
    "plt.legend()\n",
    "plt.xlim(1, 10)\n",
    "plt.show()"
   ]
  },
  {
   "cell_type": "markdown",
   "metadata": {},
   "source": [
    "And here is the same histogram in log-log scale"
   ]
  },
  {
   "cell_type": "code",
   "execution_count": null,
   "metadata": {},
   "outputs": [],
   "source": [
    "hist, bin_edges = np.histogram(x_train, bins=200, density=True)\n",
    "bin_centers = (bin_edges[1:] + bin_edges[:-1]) / 2\n",
    "plt.scatter(bin_centers, hist, s=10)\n",
    "plt.plot(x_space, power_law_pdf(x_space, alpha, x_min), \n",
    "         label='Theoretical PDF', c='tab:orange')\n",
    "plt.legend()\n",
    "plt.xscale('log')\n",
    "plt.yscale('log')\n",
    "plt.xlim(1, 10)\n",
    "plt.show()"
   ]
  },
  {
   "cell_type": "markdown",
   "metadata": {},
   "source": [
    "### Task 9. Estimation of alpha with linear binning (2 points)"
   ]
  },
  {
   "cell_type": "markdown",
   "metadata": {},
   "source": [
    "Given observations from the Power Law distribution, try to estimate $\\alpha$. The easiest way is to draw an empirical PDF with linear binning in log-log scale and apply linear regression. By _linear binning_ we mean to keep a bin width is fixed.\n",
    "\n",
    "Write a function `alpha_lin_bins` that takes a train set, number of linear bins and returns an estimated $\\alpha$.\n",
    "\n",
    "_Hints:_\n",
    "* _Take log in both side of $p(x) = Cx^{-\\alpha}$_\n",
    "* _To calculate an empirical PDF, use `np.histogram(x_train, bins=bins, density=True)`_\n",
    "* _To calculate pseudoinverse matrix, use `np.linalg.pinv`_\n",
    "* _Also you can use fit-predict in `sklearn.linear.LinearRegression`_"
   ]
  },
  {
   "cell_type": "code",
   "execution_count": null,
   "metadata": {
    "deletable": false,
    "nbgrader": {
     "cell_type": "code",
     "checksum": "98c4c6ef2ed0c2d94c440d3e8e932b7e",
     "grade": false,
     "grade_id": "cell-c57a5c7c5834b80e",
     "locked": false,
     "schema_version": 3,
     "solution": true,
     "task": false
    }
   },
   "outputs": [],
   "source": [
    "def alpha_lin_bins(x_train, bins):\n",
    "    # YOUR CODE HERE\n",
    "    raise NotImplementedError()"
   ]
  },
  {
   "cell_type": "code",
   "execution_count": null,
   "metadata": {
    "deletable": false,
    "editable": false,
    "nbgrader": {
     "cell_type": "code",
     "checksum": "a19a9fcb480e083446fbee519d1dd98b",
     "grade": true,
     "grade_id": "cell-b9cf21aabb190bd7",
     "locked": true,
     "points": 2.0,
     "schema_version": 3,
     "solution": false,
     "task": false
    }
   },
   "outputs": [],
   "source": [
    "bins = 100\n",
    "x_train = power_law_generate(1000, x_min=1, alpha=2)\n",
    "assert np.abs(alpha_lin_bins(x_train, bins) - 2) < 0.7\n",
    "x_train = power_law_generate(1000, x_min=1, alpha=3.5)\n",
    "assert np.abs(alpha_lin_bins(x_train, bins) - 3.5) < 0.9\n",
    "x_train = power_law_generate(1000, x_min=1, alpha=10)\n",
    "assert np.abs(alpha_lin_bins(x_train, bins) - 10) < 2"
   ]
  },
  {
   "cell_type": "code",
   "execution_count": null,
   "metadata": {},
   "outputs": [],
   "source": [
    "x_min = 1\n",
    "alpha = 3.5\n",
    "bins = 100\n",
    "\n",
    "x_train = power_law_generate(1000, alpha, x_min)\n",
    "hist, bin_edges = np.histogram(x_train, bins=bins, density=True)\n",
    "bin_centers = (bin_edges[1:] + bin_edges[:-1]) / 2\n",
    "plt.scatter(bin_centers, hist, s=10)\n",
    "\n",
    "hat_alpha = alpha_lin_bins(x_train, bins)\n",
    "x_space = np.linspace(x_min, x_train.max(), 100)\n",
    "plt.plot(x_space, power_law_pdf(x_space, hat_alpha, x_min), \n",
    "         label='Estimated PDF', c='tab:orange')\n",
    "plt.legend()\n",
    "plt.title('Truth alpha = {:.2f}, estimated alpha = {:.2f}'.format(alpha, hat_alpha))\n",
    "plt.xscale('log')\n",
    "plt.yscale('log')\n",
    "plt.show()"
   ]
  },
  {
   "cell_type": "code",
   "execution_count": null,
   "metadata": {},
   "outputs": [],
   "source": []
  }
 ],
 "metadata": {
  "kernelspec": {
   "display_name": "Python 3",
   "language": "python",
   "name": "python3"
  },
  "language_info": {
   "codemirror_mode": {
    "name": "ipython",
    "version": 3
   },
   "file_extension": ".py",
   "mimetype": "text/x-python",
   "name": "python",
   "nbconvert_exporter": "python",
   "pygments_lexer": "ipython3",
   "version": "3.7.4"
  }
 },
 "nbformat": 4,
 "nbformat_minor": 4
}
