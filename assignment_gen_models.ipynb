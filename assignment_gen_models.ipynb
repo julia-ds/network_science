{
 "cells": [
  {
   "cell_type": "markdown",
   "metadata": {},
   "source": [
    "# Assignment — Generative network models"
   ]
  },
  {
   "cell_type": "code",
   "execution_count": null,
   "metadata": {},
   "outputs": [],
   "source": [
    "import matplotlib.pyplot as plt\n",
    "import requests\n",
    "from zlib import adler32\n",
    "import networkx as nx\n",
    "from tqdm.notebook import tqdm\n",
    "from scipy.stats import ks_2samp\n",
    "import numpy as np\n",
    "import random\n",
    "import scipy.stats as st"
   ]
  },
  {
   "cell_type": "markdown",
   "metadata": {},
   "source": [
    "### Task 1. Erdos-Renyi model (0 points)"
   ]
  },
  {
   "cell_type": "markdown",
   "metadata": {},
   "source": [
    "Implement Erdos Renyi model (random graph) — each pair of $n$ nodes are connected with some fixed probability $p$."
   ]
  },
  {
   "cell_type": "code",
   "execution_count": null,
   "metadata": {
    "deletable": false,
    "editable": false,
    "nbgrader": {
     "cell_type": "code",
     "checksum": "e67a19e0a6ae55dd020c9103e8cc795d",
     "grade": false,
     "grade_id": "cell-4d93a39b3f69dd92",
     "locked": true,
     "schema_version": 3,
     "solution": false,
     "task": false
    }
   },
   "outputs": [],
   "source": [
    "def erdos_renyi_graph(n, p):\n",
    "    G = nx.Graph()\n",
    "    nodes = np.arange(n)\n",
    "    G.add_nodes_from(nodes)\n",
    "    G.add_edges_from(random_edges(nodes, p))\n",
    "    return G"
   ]
  },
  {
   "cell_type": "markdown",
   "metadata": {},
   "source": [
    "Write a function `random_edges` with parameters: `nodes` — np.array of nodes, for example [1, 2, 3, 4, ...] and `p` — probability of connection. The function returns np.array with tuples of the form [(1, 2), (2, 4), ...], where 1-2, 2-4 are edges that should be added in the graph.\n",
    "\n",
    "*Hint: To speed up the generation, look at ALG.1 in the article [Efficient generation of large random networks](http://vlado.fmf.uni-lj.si/pub/networks/doc/ms/rndgen.pdf).*"
   ]
  },
  {
   "cell_type": "code",
   "execution_count": null,
   "metadata": {
    "deletable": false,
    "nbgrader": {
     "cell_type": "code",
     "checksum": "9299bda1c1e8cf204c9e0671a10db9d4",
     "grade": false,
     "grade_id": "cell-e2b1f0ebfa7b2fc3",
     "locked": false,
     "schema_version": 3,
     "solution": true,
     "task": false
    }
   },
   "outputs": [],
   "source": [
    "def random_edges(nodes, p):\n",
    "    # YOUR CODE HERE\n",
    "    raise NotImplementedError()"
   ]
  },
  {
   "cell_type": "code",
   "execution_count": null,
   "metadata": {
    "deletable": false,
    "editable": false,
    "nbgrader": {
     "cell_type": "code",
     "checksum": "a3a79640251915ac203803ffa550fdfe",
     "grade": true,
     "grade_id": "cell-d57f0727bf4b7394",
     "locked": true,
     "points": 0.0,
     "schema_version": 3,
     "solution": false,
     "task": false
    }
   },
   "outputs": [],
   "source": [
    "'''Check the Erdos-Renyi random graph generation'''\n",
    "assert len(erdos_renyi_graph(100, 0.1).edges) > 0\n",
    "n = 100\n",
    "p = 0.4\n",
    "n_edges = n * (n-1) / 2\n",
    "q = 1 - p\n",
    "sigma = np.sqrt((p * q) / n_edges)\n",
    "assert  p - 3*sigma < random_edges(np.arange(n), p).shape[0] / n_edges < p + 3*sigma\n",
    "n = 1000\n",
    "p = 0.01\n",
    "n_edges = n * (n-1) / 2\n",
    "q = 1 - p\n",
    "sigma = np.sqrt((p * q) / n_edges)\n",
    "assert  p - 3*sigma < random_edges(np.arange(n), p).shape[0] / n_edges < p + 3*sigma\n",
    "n = 300\n",
    "p = 0.9\n",
    "n_edges = n * (n-1) / 2\n",
    "q = 1 - p\n",
    "sigma = np.sqrt((p * q) / n_edges)\n",
    "assert  p - 3*sigma < random_edges(np.arange(n), p).shape[0] / n_edges < p + 3*sigma"
   ]
  },
  {
   "cell_type": "markdown",
   "metadata": {},
   "source": [
    "Let us draw a couple of generated graphs"
   ]
  },
  {
   "cell_type": "code",
   "execution_count": null,
   "metadata": {},
   "outputs": [],
   "source": [
    "n = 100\n",
    "cases = [('Subcritical regime: $p \\cdot n < 1$', n, 0.5/n), \n",
    "         ('Critical point: $p \\cdot n = 1$', n, 1/n), \n",
    "         ('Supercritacal regime: $p \\cdot n > 1$', n, 2/n), \n",
    "         ('Connected regime: $p \\cdot n > \\log(N)$', n, 6.5/n)]\n",
    "plt.figure(figsize=(12, 6 * 4))\n",
    "i = 1\n",
    "for regime, n, p in cases:\n",
    "    plt.subplot(4, 2, i)\n",
    "    G = erdos_renyi_graph(n, p)\n",
    "    nx.draw(\n",
    "        G, \n",
    "        with_labels=False, \n",
    "        node_size=20, \n",
    "        width=0.5, \n",
    "        node_color='tab:orange')\n",
    "    plt.title(regime)\n",
    "    i += 1\n",
    "    plt.subplot(4, 2, i)\n",
    "    degree_seq = [degree for (node, degree) in G.degree]\n",
    "    bins, freq = np.unique(degree_seq, return_counts=True)\n",
    "    plt.bar(bins, freq)\n",
    "    plt.xlim((-1, 14))\n",
    "    plt.title('Degree distribution')\n",
    "    i += 1"
   ]
  },
  {
   "cell_type": "markdown",
   "metadata": {},
   "source": [
    "### Task 2. Fitting parameters of Erdos-Renyi model (0 points)"
   ]
  },
  {
   "cell_type": "markdown",
   "metadata": {},
   "source": [
    "In the Erdos-Renyi model, we can estimate a degree distribution using the binomial distribution. The binomial distribution $B(n, p)$ converges to the Poisson $\\text{Pois}(\\lambda)$ when the number of samples $n$ tends to infinity with the fixed product $np = \\lambda$."
   ]
  },
  {
   "cell_type": "code",
   "execution_count": null,
   "metadata": {},
   "outputs": [],
   "source": [
    "plt.figure(figsize=[14, 4])\n",
    "for i, [n, mean] in enumerate([[100, 50], [200, 50], [1000, 50]]):\n",
    "    plt.subplot(1, 3, i+1)\n",
    "    plt.plot(st.binom(n, mean / n).pmf(np.arange(100)), \n",
    "             label=\"Binomial\")\n",
    "    plt.plot(st.poisson(mean).pmf(np.arange(100)), \n",
    "             label=\"Poisson\")\n",
    "    plt.xlim(20, 80)\n",
    "    plt.ylim(0, 0.1)\n",
    "    plt.title('n={}, p={:.2f}, lambda={}'.format(n, mean / n, mean))\n",
    "plt.legend(loc='upper right');"
   ]
  },
  {
   "cell_type": "markdown",
   "metadata": {},
   "source": [
    "In this task we will estimate properties of Binomial and Poisson distributions and compare in what cases it is better to use Binomial.\n",
    "\n",
    "Write a function `estimate_binomial` that takes a random graph and returns binomial parameters `n` and `p`."
   ]
  },
  {
   "cell_type": "code",
   "execution_count": null,
   "metadata": {
    "deletable": false,
    "nbgrader": {
     "cell_type": "code",
     "checksum": "286fbff1f265625df5d92a55433c6021",
     "grade": false,
     "grade_id": "cell-fd6342c245c850c4",
     "locked": false,
     "schema_version": 3,
     "solution": true,
     "task": false
    }
   },
   "outputs": [],
   "source": [
    "def estimate_binomial(G):\n",
    "    # YOUR CODE HERE\n",
    "    raise NotImplementedError()"
   ]
  },
  {
   "cell_type": "code",
   "execution_count": null,
   "metadata": {
    "deletable": false,
    "editable": false,
    "nbgrader": {
     "cell_type": "code",
     "checksum": "bfe53cf8f3efca314c3e983737a3f69b",
     "grade": true,
     "grade_id": "cell-85182880379dd313",
     "locked": true,
     "points": 0.0,
     "schema_version": 3,
     "solution": false,
     "task": false
    }
   },
   "outputs": [],
   "source": [
    "G = erdos_renyi_graph(100, 0.5)\n",
    "n, p = estimate_binomial(G)\n",
    "assert abs(p - 0.5) <= 0.05\n",
    "assert n == 100"
   ]
  },
  {
   "cell_type": "markdown",
   "metadata": {},
   "source": [
    "Write a function `estimate_poisson` that takes a random graph and returns the Poisson parameter $\\lambda$ (here denoted as `m`)."
   ]
  },
  {
   "cell_type": "code",
   "execution_count": null,
   "metadata": {
    "deletable": false,
    "nbgrader": {
     "cell_type": "code",
     "checksum": "bdcf6444e581e509d2072ae4b8be17ad",
     "grade": false,
     "grade_id": "cell-f3707ddb089d8ed3",
     "locked": false,
     "schema_version": 3,
     "solution": true,
     "task": false
    }
   },
   "outputs": [],
   "source": [
    "def estimate_poisson(G):\n",
    "    # YOUR CODE HERE\n",
    "    raise NotImplementedError()"
   ]
  },
  {
   "cell_type": "code",
   "execution_count": null,
   "metadata": {
    "deletable": false,
    "editable": false,
    "nbgrader": {
     "cell_type": "code",
     "checksum": "ab6f3092fcedb765579156ee99aa7734",
     "grade": true,
     "grade_id": "cell-f3b40f87622a45fd",
     "locked": true,
     "points": 0.0,
     "schema_version": 3,
     "solution": false,
     "task": false
    }
   },
   "outputs": [],
   "source": [
    "G = erdos_renyi_graph(1000, 0.05)\n",
    "m = estimate_poisson(G)\n",
    "assert abs(m - 50) <= 1"
   ]
  },
  {
   "cell_type": "code",
   "execution_count": null,
   "metadata": {},
   "outputs": [],
   "source": [
    "plt.figure(figsize=[12, 8])\n",
    "for i, [n, p] in enumerate([[100, 0.5], [200, 0.25], [1000, 0.05], [10000, 0.005]]):\n",
    "    plt.subplot(2, 2, i+1)\n",
    "    G = erdos_renyi_graph(n, p)\n",
    "    degree_density = np.array(nx.degree_histogram(G)) / n\n",
    "    idx = np.argwhere(degree_density > 0)\n",
    "    plt.scatter(idx, degree_density[idx], label=\"Empirical\", c='tab:green', s=20)\n",
    "    degrees = dict(G.degree).values()\n",
    "    k_space = np.arange(min(degrees), max(degrees))\n",
    "    plt.plot(k_space, st.binom(*estimate_binomial(G)).pmf(k_space), label=\"Binomial\")\n",
    "    plt.plot(k_space, st.poisson(estimate_poisson(G)).pmf(k_space), label=\"Poisson\")\n",
    "    plt.title(f'n={n}, p={p:.2f}, lambda={n*p:.0f}')\n",
    "plt.legend()\n",
    "plt.show()"
   ]
  },
  {
   "cell_type": "markdown",
   "metadata": {},
   "source": [
    "### Task 3. Degree distribution in random graphs (1 points)"
   ]
  },
  {
   "cell_type": "code",
   "execution_count": null,
   "metadata": {},
   "outputs": [],
   "source": [
    "url = 'https://raw.githubusercontent.com/netspractice/network-science/main/datasets/wiki_vote.txt'\n",
    "open('wiki_vote.txt', 'wb').write(requests.get(url).content)\n",
    "\n",
    "url = 'https://raw.githubusercontent.com/netspractice/network-science/main/datasets/facebook_combined.txt'\n",
    "open('facebook_combined.txt', 'wb').write(requests.get(url).content)\n",
    "\n",
    "url = 'https://raw.githubusercontent.com/netspractice/network-science/main/datasets/collaboration_network_of_arxiv_general_relativity_category.txt'\n",
    "open('collaboration_network_of_arxiv_general_relativity_category.txt', 'wb').write(requests.get(url).content);\n"
   ]
  },
  {
   "cell_type": "markdown",
   "metadata": {},
   "source": [
    "Let us compare degree distributions of real and random networks and decide whether they are close or not.\n",
    "\n",
    "Write a function `random_from_real` that takes a graph and returns a random network that has the same average node degree and the same number of nodes as a given network. "
   ]
  },
  {
   "cell_type": "code",
   "execution_count": null,
   "metadata": {
    "deletable": false,
    "nbgrader": {
     "cell_type": "code",
     "checksum": "a08c8750814441fab232f64de4b5d569",
     "grade": false,
     "grade_id": "cell-92113b6a2ff4c1f8",
     "locked": false,
     "schema_version": 3,
     "solution": true,
     "task": false
    }
   },
   "outputs": [],
   "source": [
    "def random_from_real(graph):\n",
    "    # YOUR CODE HERE\n",
    "    raise NotImplementedError()"
   ]
  },
  {
   "cell_type": "code",
   "execution_count": null,
   "metadata": {
    "deletable": false,
    "editable": false,
    "nbgrader": {
     "cell_type": "code",
     "checksum": "6a56733b96a2608cc23054f048db3b25",
     "grade": true,
     "grade_id": "cell-59eb008aa4354142",
     "locked": true,
     "points": 1.0,
     "schema_version": 3,
     "solution": false,
     "task": false
    }
   },
   "outputs": [],
   "source": [
    "for file in ['wiki_vote.txt', \n",
    "             'collaboration_network_of_arxiv_general_relativity_category.txt', \n",
    "             'facebook_combined.txt']:\n",
    "    real_net = nx.read_edgelist(file)\n",
    "    random_net = random_from_real(real_net)\n",
    "    av_degree_random = np.mean(list(dict(random_net.degree).values()))\n",
    "    av_degree_real = np.mean(list(dict(real_net.degree).values()))\n",
    "    assert len(random_net) == len(real_net)\n",
    "    assert np.abs(av_degree_random - av_degree_real) < 1"
   ]
  },
  {
   "cell_type": "code",
   "execution_count": null,
   "metadata": {},
   "outputs": [],
   "source": [
    "cases = [['Wikipedia votes', 'wiki_vote.txt'], \n",
    "         ['Collaboration network', 'collaboration_network_of_arxiv_general_relativity_category.txt'], \n",
    "         ['Facebook', 'facebook_combined.txt']]\n",
    "for title, file in cases:\n",
    "    real_net = nx.read_edgelist(file)\n",
    "    random_net = random_from_real(real_net)\n",
    "    degree_hist = np.array(nx.degree_histogram(random_net))\n",
    "    idx = np.argwhere(degree_hist > 0)\n",
    "    plt.scatter(idx, degree_hist[idx], s=10, label='Random network')\n",
    "    degree_hist = np.array(nx.degree_histogram(real_net))\n",
    "    idx = np.argwhere(degree_hist > 0)\n",
    "    plt.scatter(idx, degree_hist[idx], s=10, label='Real network')\n",
    "    plt.legend()\n",
    "    plt.xlabel('k')\n",
    "    plt.ylabel('p(k)')\n",
    "    plt.title(title)\n",
    "    plt.xscale('log')\n",
    "    plt.yscale('log')\n",
    "    plt.show()"
   ]
  },
  {
   "cell_type": "markdown",
   "metadata": {},
   "source": [
    "### Task 4. Giant component in random graphs (1 points)"
   ]
  },
  {
   "cell_type": "markdown",
   "metadata": {},
   "source": [
    "Let us see how the size of small components (small — not giant) depends on the probability near the critical point: $p =1/n$.\n",
    "\n",
    "Write a function `small_component_size` with parameters `n` — number of nodes, `probabilities` — np.array of probabilities. The function generates a random graph for each probability and returns np.array of average sizes of small components.\n",
    "\n",
    "*Hint: to find nodes in components, use `nx.connected_components(graph)`*"
   ]
  },
  {
   "cell_type": "code",
   "execution_count": null,
   "metadata": {
    "deletable": false,
    "nbgrader": {
     "cell_type": "code",
     "checksum": "562105a14eb97386f2d555fec24971a1",
     "grade": false,
     "grade_id": "cell-c44a46b500972535",
     "locked": false,
     "schema_version": 3,
     "solution": true,
     "task": false
    }
   },
   "outputs": [],
   "source": [
    "def small_component_size(n, probabilities):\n",
    "    # YOUR CODE HERE\n",
    "    raise NotImplementedError()"
   ]
  },
  {
   "cell_type": "code",
   "execution_count": null,
   "metadata": {
    "deletable": false,
    "editable": false,
    "nbgrader": {
     "cell_type": "code",
     "checksum": "3cfbd94a0f16e0650e264cfde664bac4",
     "grade": true,
     "grade_id": "cell-7ebf6fbd6f5dd008",
     "locked": true,
     "points": 0.5,
     "schema_version": 3,
     "solution": false,
     "task": false
    }
   },
   "outputs": [],
   "source": [
    "n = 1000\n",
    "p_space = np.linspace(0.01/n, 2.5/n, 50)\n",
    "sizes = []\n",
    "for _ in range(5):\n",
    "    size = small_component_size(n, p_space)\n",
    "    assert size.shape == (50,)\n",
    "    sizes.append(size)\n",
    "\n",
    "av_sizes = np.mean(sizes, axis=0)\n",
    "assert av_sizes[0] < av_sizes[np.argmin(np.abs(p_space*n - 1))]\n",
    "assert av_sizes[49] < av_sizes[np.argmin(np.abs(p_space*n - 1))]"
   ]
  },
  {
   "cell_type": "code",
   "execution_count": null,
   "metadata": {},
   "outputs": [],
   "source": [
    "for i in range(5):\n",
    "    plt.plot(p_space*n, sizes[i], c='tab:blue', alpha=0.5)\n",
    "plt.plot([1, 1], [1, 2.6], 'k--', label='Critical point')\n",
    "plt.xlabel('<k>')\n",
    "plt.ylabel('Average size of small components')\n",
    "plt.legend()\n",
    "plt.grid()\n",
    "plt.show()"
   ]
  },
  {
   "cell_type": "markdown",
   "metadata": {},
   "source": [
    "Also let us see how the size of a giant component depends on the probability near the critical point.\n",
    "\n",
    "Write a function `giant_component_size` with parameters `n` — number of nodes, `probabilities` — np.array of probabilities. The function generates a random graph for each probability and returns np.array of sizes of a giant component.\n",
    "\n",
    "*Hint: to find nodes in a ginat component, use `max(nx.connected_components(graph), key=len)`*"
   ]
  },
  {
   "cell_type": "code",
   "execution_count": null,
   "metadata": {
    "deletable": false,
    "nbgrader": {
     "cell_type": "code",
     "checksum": "0819a0c56cf2b22a7584e2f6784e94c4",
     "grade": false,
     "grade_id": "cell-aac3a4965109b67f",
     "locked": false,
     "schema_version": 3,
     "solution": true,
     "task": false
    }
   },
   "outputs": [],
   "source": [
    "def giant_component_size(n, probabilities):\n",
    "    # YOUR CODE HERE\n",
    "    raise NotImplementedError()"
   ]
  },
  {
   "cell_type": "code",
   "execution_count": null,
   "metadata": {
    "deletable": false,
    "editable": false,
    "nbgrader": {
     "cell_type": "code",
     "checksum": "facbf2c2306593ac7016025ec2fae141",
     "grade": true,
     "grade_id": "cell-4183154a87c82a6e",
     "locked": true,
     "points": 0.5,
     "schema_version": 3,
     "solution": false,
     "task": false
    }
   },
   "outputs": [],
   "source": [
    "n = 1000\n",
    "p_space = np.linspace(0.01/n, 2.5/n, 50)\n",
    "sizes = []\n",
    "for _ in range(5):\n",
    "    size = giant_component_size(n, p_space)\n",
    "    assert size.shape == (50,)\n",
    "    sizes.append(size)\n",
    "\n",
    "av_sizes = np.mean(sizes, axis=0)\n",
    "assert av_sizes[0] < 20\n",
    "assert 20 < av_sizes[np.argmin(np.abs(p_space*n - 1))] < 150\n",
    "assert 700 < av_sizes[np.argmin(np.abs(p_space*n - 2))] < 900"
   ]
  },
  {
   "cell_type": "code",
   "execution_count": null,
   "metadata": {},
   "outputs": [],
   "source": [
    "for i in range(5):\n",
    "    plt.plot(p_space*n, sizes[i], c='tab:blue', alpha=0.5)\n",
    "plt.plot([1, 1], [0, 1000], 'k--', label='Critical point')\n",
    "plt.xlabel('<k>')\n",
    "plt.ylabel('Size of a giant component')\n",
    "plt.legend()\n",
    "plt.grid()\n",
    "plt.show()"
   ]
  },
  {
   "cell_type": "markdown",
   "metadata": {},
   "source": [
    "### Task 5. Snobbish networks (2 points)"
   ]
  },
  {
   "cell_type": "markdown",
   "metadata": {},
   "source": [
    "Consider a network of $N$ red and $N$ blue nodes. The probability that there is a link between nodes of identical color is $p$ and the probability that there is a link between nodes of different color is $q$. A network is snobbish if $p>q$, capturing a tendency to connect to nodes of the same color. For $q = 0$ the network has at least two components, containing nodes with the same color.\n",
    "\n",
    "Write a function `snobbish_network` that takes the number of red (or blue) nodes `n`, probability of link between nodes of the same color `p` and probability of link between nodes of different color `q`. The function returns a network with $2N$ nodes where every node has an attribute `color` that can be `blue` or `red`.\n",
    "\n",
    "*Hint: to set node attributes, use `nx.set_node_attributes`*"
   ]
  },
  {
   "cell_type": "code",
   "execution_count": null,
   "metadata": {
    "deletable": false,
    "nbgrader": {
     "cell_type": "code",
     "checksum": "1c33036d546a891252b9a8a1af4dbdf7",
     "grade": false,
     "grade_id": "cell-4f50e33c87484848",
     "locked": false,
     "schema_version": 3,
     "solution": true,
     "task": false
    }
   },
   "outputs": [],
   "source": [
    "def snobbish_network(n, p, q):\n",
    "    # YOUR CODE HERE\n",
    "    raise NotImplementedError()"
   ]
  },
  {
   "cell_type": "code",
   "execution_count": null,
   "metadata": {
    "deletable": false,
    "editable": false,
    "nbgrader": {
     "cell_type": "code",
     "checksum": "c6c5bda7ca4340723349b72f7c18fb43",
     "grade": true,
     "grade_id": "cell-0d8fbdb837d4ddc3",
     "locked": true,
     "points": 2.0,
     "schema_version": 3,
     "solution": false,
     "task": false
    }
   },
   "outputs": [],
   "source": [
    "sn_net = snobbish_network(100, 0.1, 0.01)\n",
    "assert sn_net.number_of_nodes() == 200\n",
    "assert set(nx.get_node_attributes(sn_net, 'color').values()) == {'blue', 'red'}\n",
    "assert np.sum(np.array(list(nx.get_node_attributes(sn_net, 'color').values())) == 'red') == 100\n",
    "assert 0.76 < nx.attribute_assortativity_coefficient(sn_net, 'color') < 0.88\n",
    "sn_net = snobbish_network(200, 0.1, 0.05)\n",
    "assert 0.25 < nx.attribute_assortativity_coefficient(sn_net, 'color') < 0.4"
   ]
  },
  {
   "cell_type": "code",
   "execution_count": null,
   "metadata": {},
   "outputs": [],
   "source": [
    "plt.figure(figsize=(10, 8))\n",
    "sn_net = snobbish_network(100, 0.1, 0.01)\n",
    "pos = nx.spring_layout(sn_net)\n",
    "nx.draw_networkx_nodes(\n",
    "    sn_net, \n",
    "    pos=pos,\n",
    "    node_color=nx.get_node_attributes(sn_net, 'color').values(), \n",
    "    node_size=50)\n",
    "nx.draw_networkx_edges(sn_net, pos=pos, alpha=0.3)\n",
    "plt.axis('off')\n",
    "plt.show()"
   ]
  },
  {
   "cell_type": "markdown",
   "metadata": {},
   "source": [
    "### Task 6. Watts-Strogatz model (0 points)"
   ]
  },
  {
   "cell_type": "markdown",
   "metadata": {},
   "source": [
    "Implement Watts-Strogatz model (small-world model) — rewire an edge with probability `p` in a ring lattice with `n` nodes and `k` degree."
   ]
  },
  {
   "cell_type": "code",
   "execution_count": null,
   "metadata": {
    "deletable": false,
    "editable": false,
    "nbgrader": {
     "cell_type": "code",
     "checksum": "e850df626eeda6d404641cf8811444a6",
     "grade": false,
     "grade_id": "cell-dde49b1f65e90c67",
     "locked": true,
     "schema_version": 3,
     "solution": false,
     "task": false
    }
   },
   "outputs": [],
   "source": [
    "def watts_strogatz_graph(n, k, p):\n",
    "    G = ring_lattice(n, k)\n",
    "    for node in G.nodes:\n",
    "        rewire(G, node, k, p)\n",
    "    return G"
   ]
  },
  {
   "cell_type": "markdown",
   "metadata": {},
   "source": [
    "Write a function `ring_lattice` that returns a regular ring lattice with `n` nodes (0, 1, 2, ..., n-1) and `k` node degree. In a case of an odd node degree, it round it to the nearest smaller even number."
   ]
  },
  {
   "cell_type": "code",
   "execution_count": null,
   "metadata": {
    "deletable": false,
    "nbgrader": {
     "cell_type": "code",
     "checksum": "979368bbbaedcc833b0fb00940e6bd8f",
     "grade": false,
     "grade_id": "cell-a644a545b228c075",
     "locked": false,
     "schema_version": 3,
     "solution": true,
     "task": false
    }
   },
   "outputs": [],
   "source": [
    "def ring_lattice(n, k):\n",
    "    # YOUR CODE HERE\n",
    "    raise NotImplementedError()"
   ]
  },
  {
   "cell_type": "code",
   "execution_count": null,
   "metadata": {
    "deletable": false,
    "editable": false,
    "nbgrader": {
     "cell_type": "code",
     "checksum": "ce0b43ce7ca6c1cf0e11b762e9994cea",
     "grade": true,
     "grade_id": "cell-9448aa2e78b283b2",
     "locked": true,
     "points": 0.0,
     "schema_version": 3,
     "solution": false,
     "task": false
    }
   },
   "outputs": [],
   "source": [
    "assert nx.degree_histogram(ring_lattice(10, 2))[2] == 10\n",
    "assert nx.degree_histogram(ring_lattice(10, 3))[2] == 10\n",
    "assert nx.degree_histogram(ring_lattice(10, 4))[4] == 10"
   ]
  },
  {
   "cell_type": "markdown",
   "metadata": {},
   "source": [
    "Write a function `rewire` that takes in input a ring lattice `G`, a `node`, a model parameter `k` and probability `p`. For every right hand side neighbor $i$, the function rewires an edge (`node`, $i$) into a random edge (`node`, $j$) with probability `p` where $i \\neq j \\neq $ `node`.\n",
    "\n",
    "*Hints:*\n",
    "* *Why do we only rewire right hand side edges? We want to guarantee that only untouched in previous iterations edges will be rewound. Look at the picture — we could not move the red edges in previous iterations.\n",
    "![](https://raw.githubusercontent.com/netspractice/network-science/main/images/watts_strogatz_how_to_rewire.png)*\n",
    "* *To speed up the generation, do not filter nodes to random selection. If a selected node produces an existing edge or a loop, just skip it.*"
   ]
  },
  {
   "cell_type": "code",
   "execution_count": null,
   "metadata": {
    "deletable": false,
    "nbgrader": {
     "cell_type": "code",
     "checksum": "73069084258860ce51784498a7683c05",
     "grade": false,
     "grade_id": "cell-161cd7ea24dd16a3",
     "locked": false,
     "schema_version": 3,
     "solution": true,
     "task": false
    }
   },
   "outputs": [],
   "source": [
    "def rewire(G, node, k, p):\n",
    "    # YOUR CODE HERE\n",
    "    raise NotImplementedError()"
   ]
  },
  {
   "cell_type": "code",
   "execution_count": null,
   "metadata": {
    "deletable": false,
    "editable": false,
    "nbgrader": {
     "cell_type": "code",
     "checksum": "dcf629da2ce3e17975d9b98342bc358d",
     "grade": true,
     "grade_id": "cell-022dc260d78b00c3",
     "locked": true,
     "points": 0.0,
     "schema_version": 3,
     "solution": false,
     "task": false
    }
   },
   "outputs": [],
   "source": [
    "cases = [[50, 8, 0.1], \n",
    "         [1000, 10, 0.01],\n",
    "         [1000, 10, 0.5],\n",
    "         [1000, 10, 0.99]]\n",
    "for n, k, p in cases:\n",
    "    G = watts_strogatz_graph(n, k, p)\n",
    "    assert nx.number_of_nodes(G) == n\n",
    "    assert nx.number_of_edges(G) == int(k / 2 * n)\n",
    "    degree_seq = [degree for (node, degree) in G.degree]\n",
    "    nxG = nx.watts_strogatz_graph(n, k, p, 1)\n",
    "    nxdegree_seq = [degree for (node, degree) in nxG.degree]\n",
    "    assert ks_2samp(degree_seq, nxdegree_seq).pvalue > 0.05"
   ]
  },
  {
   "cell_type": "markdown",
   "metadata": {},
   "source": [
    "Let us draw a small-world graph in some steps of the algorithm"
   ]
  },
  {
   "cell_type": "code",
   "execution_count": null,
   "metadata": {},
   "outputs": [],
   "source": [
    "n, k, p = 52, 8, 0.2\n",
    "G = ring_lattice(n, k)\n",
    "plt.figure(figsize=(12, 6 * 4))\n",
    "i = 1\n",
    "for node in G.nodes:\n",
    "    if node in np.arange(0, n+1, int(n/3)):\n",
    "        plt.subplot(4, 2, i)\n",
    "        plt.title('Number of iterations: {}'.format(node))\n",
    "        nx.draw_circular(\n",
    "            G,\n",
    "            node_size=50, \n",
    "            width=0.5,\n",
    "            linewidths=0.5,\n",
    "            edgecolors='black',\n",
    "            node_color='tab:orange')\n",
    "        i += 1\n",
    "        plt.subplot(4, 2, i)\n",
    "        degree_seq = [degree for (node, degree) in G.degree]\n",
    "        bins, freq = np.unique(degree_seq, return_counts=True)\n",
    "        plt.bar(bins, freq)\n",
    "        plt.xlim((4, 13))\n",
    "        plt.title('Degree distribution')\n",
    "        i += 1\n",
    "    rewire(G, node, k, p)"
   ]
  },
  {
   "cell_type": "markdown",
   "metadata": {},
   "source": [
    "### Task 7. Path lengths in small world (2 points)"
   ]
  },
  {
   "cell_type": "markdown",
   "metadata": {},
   "source": [
    "Let us check that the average path length tends to theoretical value during building the small-world model.\n",
    "\n",
    "$$\\langle L \\rangle = \\begin{cases}\n",
    "N/2k, \\text{ if } p \\to 0 \\\\\n",
    "\\log(N)/\\log(k), \\text{ if } p \\to 1\n",
    "\\end{cases}$$\n",
    "\n",
    "So that we have a lower and upper limits of path lengths for $0 < p < 1$.\n",
    "\n",
    "Write a function `smallworld_path_len` with Watts-Strogatz model parameters `n, k, p` that returns np.array of average path lengths in each step (node). The length of the array is `n`.\n",
    "\n",
    "*Hint: to calculate the average shortest path length, use `nx.average_shortest_path_length`*"
   ]
  },
  {
   "cell_type": "code",
   "execution_count": null,
   "metadata": {
    "deletable": false,
    "nbgrader": {
     "cell_type": "code",
     "checksum": "0f16851fad4ffce74b6ba82e90bcf6e6",
     "grade": false,
     "grade_id": "cell-a5a51e26d2f2c429",
     "locked": false,
     "schema_version": 3,
     "solution": true,
     "task": false
    }
   },
   "outputs": [],
   "source": [
    "def smallworld_path_len(n, k, p):\n",
    "    # YOUR CODE HERE\n",
    "    raise NotImplementedError()"
   ]
  },
  {
   "cell_type": "code",
   "execution_count": null,
   "metadata": {
    "deletable": false,
    "editable": false,
    "nbgrader": {
     "cell_type": "code",
     "checksum": "d6f715b0147b7a867bebe2c816951f8d",
     "grade": true,
     "grade_id": "cell-3d9e7e4d9ebee4c1",
     "locked": true,
     "points": 2.0,
     "schema_version": 3,
     "solution": false,
     "task": false
    }
   },
   "outputs": [],
   "source": [
    "n, k, p = 101, 10, 0.05\n",
    "lengths = smallworld_path_len(n, k, p)\n",
    "step_space = np.log(np.arange(1, len(lengths) + 1))\n",
    "X = np.stack([step_space, np.ones(lengths.shape[0])], axis=1)\n",
    "assert lengths.shape[0] == n\n",
    "assert 0.1 < -(np.linalg.pinv(X) @ np.log(lengths))[0] < 0.25"
   ]
  },
  {
   "cell_type": "code",
   "execution_count": null,
   "metadata": {},
   "outputs": [],
   "source": [
    "plt.figure(figsize=(10, 5))\n",
    "\n",
    "n, k, p = 101, 12, 0.01\n",
    "lengths = smallworld_path_len(n, k, p)\n",
    "plt.plot(lengths, label=f'p={p}')\n",
    "\n",
    "n, k, p = 101, 12, 0.1\n",
    "lengths = smallworld_path_len(n, k, p)\n",
    "plt.plot(lengths, label=f'p={p}')\n",
    "\n",
    "n, k, p = 101, 12, 0.9\n",
    "lengths = smallworld_path_len(n, k, p)\n",
    "plt.plot(lengths, label=f'p={p}')\n",
    "\n",
    "plt.xlabel('Step of the small-world building')\n",
    "plt.ylabel('Average path length')\n",
    "plt.grid()\n",
    "plt.plot([0, 100], [n / 2 / k, n / 2 / k], '--', \n",
    "         label='limit upper bound')\n",
    "plt.plot([0, 100], [np.log(n) / np.log(k), np.log(n) / np.log(k)], '--',\n",
    "         label='limit lower bound')\n",
    "plt.legend(loc='lower left')\n",
    "plt.show()"
   ]
  },
  {
   "cell_type": "markdown",
   "metadata": {},
   "source": [
    "### Task 8. Barabasi-Albert model (0 points)"
   ]
  },
  {
   "cell_type": "markdown",
   "metadata": {},
   "source": [
    "Implement Barabasi-Albert model (preferential attachment model) – a growth process where each new node connects to `m` existing nodes. The higher node degree, the higher probability of the connection. The final number of nodes is `n`.\n",
    "\n",
    "You start from a star graph with `m + 1` nodes. In each step you create `m` edges between a new node and existing nodes. The probability of connection to the node $i$ is \n",
    "$$p(i) = \\frac{k_i}{\\sum k}$$\n",
    "\n",
    "Write a function `attach` that attaches a `node` to a graph `G` through `m` edges.\n",
    "\n",
    "*Hint: Create a list with repeated nodes from a list of edges. For example, $[(1, 2), (2, 3), (2, 4)] \\to [1, 2, 2, 3, 2, 4]$. Uniformly select nodes one-by-one. Apply `random.choice` instead of `np.random.choice` to speed up the generation.*"
   ]
  },
  {
   "cell_type": "code",
   "execution_count": null,
   "metadata": {
    "deletable": false,
    "editable": false,
    "nbgrader": {
     "cell_type": "code",
     "checksum": "26e157029cfff1a9e0f7ce132104ccfb",
     "grade": false,
     "grade_id": "cell-27421702a7553464",
     "locked": true,
     "schema_version": 3,
     "solution": false,
     "task": false
    }
   },
   "outputs": [],
   "source": [
    "'''Do not touch the cell'''\n",
    "def barabasi_albert_graph(n, m, random_seed=1):\n",
    "    G = nx.star_graph(m)\n",
    "    for i in range(1, n - m):\n",
    "        attach(m + i, G, m)\n",
    "    return G"
   ]
  },
  {
   "cell_type": "code",
   "execution_count": null,
   "metadata": {
    "deletable": false,
    "nbgrader": {
     "cell_type": "code",
     "checksum": "0e1a08af9c29132257e7efebaa4042ed",
     "grade": false,
     "grade_id": "cell-30c57fd2a7befb94",
     "locked": false,
     "schema_version": 3,
     "solution": true,
     "task": false
    }
   },
   "outputs": [],
   "source": [
    "def attach(node, G, m):\n",
    "    # YOUR CODE HERE\n",
    "    raise NotImplementedError()"
   ]
  },
  {
   "cell_type": "code",
   "execution_count": null,
   "metadata": {
    "deletable": false,
    "editable": false,
    "nbgrader": {
     "cell_type": "code",
     "checksum": "4a001f032a8ef601b686221f358da27b",
     "grade": true,
     "grade_id": "cell-772fa0157056b79b",
     "locked": true,
     "points": 0.0,
     "schema_version": 3,
     "solution": false,
     "task": false
    }
   },
   "outputs": [],
   "source": [
    "G = nx.star_graph(3)\n",
    "attach(4, G, 3)\n",
    "assert nx.number_of_edges(G) == 6\n",
    "\n",
    "cases = [[10, 3], \n",
    "         [1000, 3], \n",
    "         [1000, 20]]\n",
    "for n, m in cases:\n",
    "    G = barabasi_albert_graph(n, m)\n",
    "    degree_seq = [degree for (node, degree) in G.degree]\n",
    "    nxG = nx.barabasi_albert_graph(n, m)\n",
    "    nxdegree_seq = [degree for (node, degree) in nxG.degree]\n",
    "    assert ks_2samp(degree_seq, nxdegree_seq).pvalue > 0.05"
   ]
  },
  {
   "cell_type": "markdown",
   "metadata": {},
   "source": [
    "Let us see what the growth process looks like"
   ]
  },
  {
   "cell_type": "code",
   "execution_count": null,
   "metadata": {},
   "outputs": [],
   "source": [
    "n, m = 1000, 6\n",
    "G = nx.star_graph(m)\n",
    "plt.figure(figsize=(12, 6 * 5))\n",
    "j = 1\n",
    "for i in range(1, n - m):\n",
    "    if i in [1, 2, 3, 30, n-m-1]:\n",
    "        plt.subplot(5, 2, j)\n",
    "        j += 1\n",
    "        sizes = np.array(list(nx.degree_centrality(G).values()))\n",
    "        sizes = sizes / max(sizes) * 200\n",
    "        if i <= 3:\n",
    "            pos = nx.layout.shell_layout(G)\n",
    "        else:\n",
    "            pos = nx.layout.spring_layout(G)\n",
    "        nx.draw(\n",
    "            G,\n",
    "            pos=pos,\n",
    "            with_labels=False, \n",
    "            node_size=sizes, \n",
    "            width=0.5,\n",
    "            linewidths=0.5,\n",
    "            edgecolors='black',\n",
    "            node_color='tab:orange')\n",
    "        plt.title('Step: {}'.format(i))\n",
    "        degree_seq = [degree for (node, degree) in G.degree]\n",
    "        bins, freq = np.unique(degree_seq, return_counts=True)\n",
    "        plt.subplot(5, 2, j)\n",
    "        j += 1\n",
    "        plt.bar(bins, freq)\n",
    "        plt.title('Degree distribution')\n",
    "    attach(m + i, G, m)"
   ]
  },
  {
   "cell_type": "markdown",
   "metadata": {},
   "source": [
    "### Task 9. Degree distribution in preferential attachment (2 points)"
   ]
  },
  {
   "cell_type": "markdown",
   "metadata": {},
   "source": [
    "Barabasi-Albert graph has a degree distribution of the form\n",
    "\n",
    "$$P(k) = \\frac{2m^2}{k^3}$$\n",
    "\n",
    "That is Power law with $\\alpha = 3$ and $k_\\min = m$. \n",
    "\n",
    "Check this fact by an experiment — generate a set of Barabasi-Albert graphs and estimate parameters of Power law using MLE\n",
    "\n",
    "$$\\alpha = 1 + n \\left[\\sum_i \\log \\frac{k_i}{k_\\min} \\right]^{-1}$$\n",
    "\n",
    "where the $k_\\min$ is selected by minimal Kolmogorov-Smirnov distance between observed and theoretical distributions.\n",
    "\n",
    "First, write a function `power_law_cdf` that takes an argument and parameters of the Power law distribution and returns the CDF."
   ]
  },
  {
   "cell_type": "code",
   "execution_count": null,
   "metadata": {
    "deletable": false,
    "nbgrader": {
     "cell_type": "code",
     "checksum": "938aa6a0a2cb21044b246ea1464af0c9",
     "grade": false,
     "grade_id": "cell-87b3dcfd366a9809",
     "locked": false,
     "schema_version": 3,
     "solution": true,
     "task": false
    }
   },
   "outputs": [],
   "source": [
    "def power_law_cdf(k, alpha=3.5, k_min=1):\n",
    "    # YOUR CODE HERE\n",
    "    raise NotImplementedError()"
   ]
  },
  {
   "cell_type": "code",
   "execution_count": null,
   "metadata": {
    "deletable": false,
    "editable": false,
    "nbgrader": {
     "cell_type": "code",
     "checksum": "2ec095cbe2cb484f6c418b6b95b1ebfc",
     "grade": true,
     "grade_id": "cell-3677a6343b41d106",
     "locked": true,
     "points": 0.67,
     "schema_version": 3,
     "solution": false,
     "task": false
    }
   },
   "outputs": [],
   "source": [
    "assert power_law_cdf(2, 2, 1) == 0.5\n",
    "assert power_law_cdf(10, 2, 1) == 0.9"
   ]
  },
  {
   "cell_type": "markdown",
   "metadata": {},
   "source": [
    "Next, write a function `mle_power_law_params` that takes a degree sequence and returns a tuple: the best $\\alpha$, the best $k_\\min$ w.r.t. MLE\n",
    "\n",
    "_Hint: use `scipy.stats.kstest` where a theoretical CDF is a `power_law_cdf` function and `args=(alpha, k_min)`_"
   ]
  },
  {
   "cell_type": "code",
   "execution_count": null,
   "metadata": {
    "deletable": false,
    "nbgrader": {
     "cell_type": "code",
     "checksum": "33f0a9f79362e3d0b90786c141977d08",
     "grade": false,
     "grade_id": "cell-b802b02dc564fc38",
     "locked": false,
     "schema_version": 3,
     "solution": true,
     "task": false
    }
   },
   "outputs": [],
   "source": [
    "def mle_power_law_params(degree_sequence):\n",
    "    # YOUR CODE HERE\n",
    "    raise NotImplementedError()"
   ]
  },
  {
   "cell_type": "code",
   "execution_count": null,
   "metadata": {
    "deletable": false,
    "editable": false,
    "nbgrader": {
     "cell_type": "code",
     "checksum": "c858bae99c20a0413a1e06c3bf1cf6e6",
     "grade": true,
     "grade_id": "cell-4d2750c8e4719fe9",
     "locked": true,
     "points": 0.67,
     "schema_version": 3,
     "solution": false,
     "task": false
    }
   },
   "outputs": [],
   "source": [
    "assert mle_power_law_params(np.array([1, 2, 3]))[0] > 0\n",
    "assert mle_power_law_params(np.array([1, 2, 3]))[1] > 0"
   ]
  },
  {
   "cell_type": "markdown",
   "metadata": {},
   "source": [
    "Write a function `estimate_power_law` that generates Barabasi-Albert graphs with `n` nodes, from `m_min` to `m_max` connections and returns a tuple of np.arrays: $\\alpha$ and $k_{\\min}$ for each graph."
   ]
  },
  {
   "cell_type": "code",
   "execution_count": null,
   "metadata": {
    "deletable": false,
    "nbgrader": {
     "cell_type": "code",
     "checksum": "092d88e523eb7a8d1e37055e55ccb3df",
     "grade": false,
     "grade_id": "cell-e78fc881caea1d19",
     "locked": false,
     "schema_version": 3,
     "solution": true,
     "task": false
    }
   },
   "outputs": [],
   "source": [
    "def estimate_power_law(n, m_min, m_max):\n",
    "    # YOUR CODE HERE\n",
    "    raise NotImplementedError()"
   ]
  },
  {
   "cell_type": "code",
   "execution_count": null,
   "metadata": {
    "deletable": false,
    "editable": false,
    "nbgrader": {
     "cell_type": "code",
     "checksum": "0be14b89ba0cedc9252f64357ed6dda7",
     "grade": true,
     "grade_id": "cell-632148ec9e9f9946",
     "locked": true,
     "points": 0.6599999999999999,
     "schema_version": 3,
     "solution": false,
     "task": false
    }
   },
   "outputs": [],
   "source": [
    "'''Check the Power law parameters'''\n",
    "n, m_min, m_max = 500, 2, 20\n",
    "alpha, k_min = estimate_power_law(n, m_min, m_max)\n",
    "assert alpha.shape[0] == m_max - m_min + 1\n",
    "assert 2 < alpha.mean() < 4\n",
    "assert k_min[0] < k_min[-1]"
   ]
  },
  {
   "cell_type": "code",
   "execution_count": null,
   "metadata": {},
   "outputs": [],
   "source": [
    "n, m_min, m_max = 500, 2, 20\n",
    "m_space = np.arange(m_min, m_max + 1)\n",
    "for _ in range(5):\n",
    "    alpha, k_min = estimate_power_law(n, m_min, m_max)\n",
    "    plt.scatter(m_space, alpha, alpha=0.7, c='tab:blue', s=10)\n",
    "plt.plot([2, 20], [3, 3], 'k--', label='theoretical alpha')\n",
    "plt.ylim((1, 5))\n",
    "plt.xlabel('m')\n",
    "plt.ylabel('alpha')\n",
    "plt.grid()\n",
    "plt.legend()\n",
    "plt.show()"
   ]
  },
  {
   "cell_type": "markdown",
   "metadata": {},
   "source": [
    "### Task 10. Degree dynamics in preferential attachment (2 points)"
   ]
  },
  {
   "cell_type": "markdown",
   "metadata": {},
   "source": [
    "Measure the degree dynamics in Barabasi-Albert model of one of the initial nodes and of the nodes added to the network at intermediate time moments (steps of the algorithm).\n",
    "\n",
    "Write a function `generate_degree_dynamics` that takes np.array with considered nodes, generates Barabasi-Albert graph ($n=3000$, $m=6$) and returns a np.array of the shape `(29, len(nodes))` — degrees of these nodes at time moments 100, 200, 300, ..., 2900. If the node does not exist yet, pass `np.nan` value.\n",
    "\n",
    "*Hint: use the `barabasi_albert_graph` function as a template*"
   ]
  },
  {
   "cell_type": "code",
   "execution_count": null,
   "metadata": {
    "deletable": false,
    "nbgrader": {
     "cell_type": "code",
     "checksum": "fd6ddcfa9c7fc9c80f144b54cd9b0169",
     "grade": false,
     "grade_id": "cell-7df96166805a39bf",
     "locked": false,
     "schema_version": 3,
     "solution": true,
     "task": false
    }
   },
   "outputs": [],
   "source": [
    "def generate_degree_dynamics(cons_nodes):\n",
    "    # YOUR CODE HERE\n",
    "    raise NotImplementedError()"
   ]
  },
  {
   "cell_type": "code",
   "execution_count": null,
   "metadata": {
    "deletable": false,
    "editable": false,
    "nbgrader": {
     "cell_type": "code",
     "checksum": "53f9eee9cb54c4cf3fad8ba5cd3a0f30",
     "grade": true,
     "grade_id": "cell-b320b2b78d49c466",
     "locked": true,
     "points": 2.0,
     "schema_version": 3,
     "solution": false,
     "task": false
    }
   },
   "outputs": [],
   "source": [
    "degree_dynamics = generate_degree_dynamics([0, 100, 700, 2000])\n",
    "assert degree_dynamics.shape == (29, 4)\n",
    "assert np.all(np.isnan(degree_dynamics[0]) == [False, False,  True,  True])\n",
    "assert np.all(np.isnan(degree_dynamics[9]) == [False, False,  False,  True])\n",
    "assert degree_dynamics[0, 0] < degree_dynamics[-1, 0]\n",
    "assert degree_dynamics[0, 1] < degree_dynamics[-1, 1]\n",
    "assert degree_dynamics[-1, 0] > degree_dynamics[-1, 3]"
   ]
  },
  {
   "cell_type": "code",
   "execution_count": null,
   "metadata": {},
   "outputs": [],
   "source": [
    "degree_dynamics = generate_degree_dynamics([0, 100, 700, 1000])\n",
    "plt.figure(figsize=(8, 5))\n",
    "time_space = np.tile(np.arange(100, 3000, 100), (4, 1)).T\n",
    "plt.plot(time_space, degree_dynamics)\n",
    "plt.legend(['node 0', 'node 100', 'node 700', 'node 1000'])\n",
    "plt.title('Degree dynamics')\n",
    "plt.xscale('log')\n",
    "plt.yscale('log')\n",
    "plt.show()"
   ]
  },
  {
   "cell_type": "code",
   "execution_count": null,
   "metadata": {},
   "outputs": [],
   "source": []
  }
 ],
 "metadata": {
  "interpreter": {
   "hash": "dca0ade3e726a953b501b15e8e990130d2b7799f14cfd9f4271676035ebe5511"
  },
  "kernelspec": {
   "display_name": "Python 3",
   "language": "python",
   "name": "python3"
  },
  "language_info": {
   "codemirror_mode": {
    "name": "ipython",
    "version": 3
   },
   "file_extension": ".py",
   "mimetype": "text/x-python",
   "name": "python",
   "nbconvert_exporter": "python",
   "pygments_lexer": "ipython3",
   "version": "3.7.4"
  }
 },
 "nbformat": 4,
 "nbformat_minor": 4
}
